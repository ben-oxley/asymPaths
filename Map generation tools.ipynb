{
 "cells": [
  {
   "cell_type": "markdown",
   "metadata": {},
   "source": [
    "Hey All,\n",
    " \n",
    "As with most holiday periods where you're meant to spend time not thinking about work, we're setting another coding challenge!! Today marks the start of the Easter 2016 Coding Challenge, which is based around path finding.\n",
    " \n",
    "Challenge\n",
    "=======\n",
    "Participants are asked to calculate some, or all of the following tasks:\n",
    "Task 1) The least effort route from A to B.\n",
    "Task 2) The least effort route from A to B to C to ... N\n",
    "Task 3) The least effort route, which travels to A, B, C, .. N at least once.\n",
    " \n",
    "Deadline\n",
    "=======\n",
    "The challenge starts now, March 24th.\n",
    "All codes need to be submitted by midnight on Sunday the 3rd of April.\n",
    "Testing will take place during the week of Monday the 4th of April.\n",
    "Results will be announced, somewhere around then.\n",
    " \n",
    "Setup\n",
    "=======\n",
    "The map in which to find routes, will be provided in a text file. An example file is attached. The file contains rows of the numbers 0 to 9, with each number representing a location to travel to, and the effort cost of travelling to that point. Locations are defined in [x, y] coordinates, with [0, 0] being the top left number in the file, for example, [4, 1] is the 9 in the following map.\n",
    "\n",
    "<pre>\n",
    "8273648712348712\n",
    "8753981239901234\n",
    "8921274192123122\n",
    "9856685798234192\n",
    "9287678213123134\n",
    "</pre>\n",
    "\n",
    "\n",
    "- All entries will be tested on the same map, and same routes for tasks 1, 2 and 3.\n",
    "- The map will be larger than the sample maps (somewhere around the 5000 wide, by 5000 long) but will not be exactly that, so codes will have to cope with this.\n",
    "- You can only travel to points directly above, below, to the left and to the right of a point. Diagonal routes are not allowed.\n",
    " \n",
    "A file will also be provided with a list of points, in a comma delimited fashion. There will be somewhere around 100 points in the file (again this isn't exact on purpose).\n",
    "- Task 1 will be to travel from the first point to the second point.\n",
    "- Task 2 will be to travel from the 1st point, to the final point.\n",
    "- Task 3 will be to travel to all points, in any order.\n",
    " \n",
    "<pre>\n",
    "id,x,y\n",
    "1,3,5\n",
    "2,8,10\n",
    "3,8,3\n",
    "4,5,9\n",
    "5,7,3\n",
    "</pre>\n",
    " \n",
    "Your code should take two command line arguments, the first for the file containing the map, and the second for the file containing the list of points. For codes which don't compile to an .exe, it should be possible to write a .bat file to run with arguments.\n",
    " \n",
    " \n",
    "<pre>\n",
    ">>TimsCode.exe \"textmap.txt\" \"routemap.txt\"\n",
    "</pre>\n",
    "\n",
    " \n",
    "The code should save out 3 files, each containing the route for each part, with lines in each file representing an x, y location to travel to.\n",
    "- The route should start at the top of the file, and progress line by line to the end.\n",
    "- The effort attributed to a route, will be the sum of the efforts of the points visited (including the start and end points).\n",
    "- Routes will be checked that steps in a route are allowed, and that all required points for that part of the task are visiting.\n",
    "\n",
    "<pre>\n",
    "x,y\n",
    "4,6\n",
    "4,7\n",
    "5,7\n",
    "5,8\n",
    "</pre>\n",
    " \n",
    "Rules\n",
    "=======\n",
    "- You can enter in any language you want.\n",
    "- Participants who produce a route of equal length on a task, will be ranked based on how quick their code produced such route. (Codes will be timed using an agreed method later on)\n",
    "- All codes will be tested on the same machine (mine) which is Windows 7. If you plan on writing in an uncommon language, let me know in advance so I can work out how to test your code. We may have to use a virtual machine.\n",
    "- All codes will be ran through our technical debt analyser Sonar, and prestige will be given to the person with the lowest debt.\n",
    "- Also, I'll be performing a search of the standard sites, and codes which have a high \"ctrl-c ctrl-v\" factor, may be disqualified. I'm expecting most codes to be implementations of standard route finding algorithms, however the aim if the challenge is to get you writing!  \n",
    " \n",
    "I think that's everything! All this information will be placed on the Wiki shortly. Good luck, and may the best dev win!\n",
    " \n",
    "Tom\n",
    "\n"
   ]
  },
  {
   "cell_type": "markdown",
   "metadata": {},
   "source": [
    "Let's create some of the basic blocks in python"
   ]
  },
  {
   "cell_type": "code",
   "execution_count": 3,
   "metadata": {
    "collapsed": false
   },
   "outputs": [],
   "source": [
    "import os\n",
    "def makeDir(directory):\n",
    "    if not os.path.exists(directory):\n",
    "        os.makedirs(directory)\n",
    "\n",
    "xWidth = 100\n",
    "yWidth = 100\n",
    "str=''\n",
    "import random\n",
    "from random import randint\n",
    "random.seed(0)\n",
    "makeDir('build')\n",
    "mapFile = open('build/map.txt', 'w')\n",
    "for y in range(0, yWidth):\n",
    "    str =','.join([`randint(1,9)` for i in range(xWidth)])+'\\n'\n",
    "    mapFile.write(str)\n",
    "mapFile.close()"
   ]
  },
  {
   "cell_type": "markdown",
   "metadata": {},
   "source": [
    "Now we should create a list of points to visit"
   ]
  },
  {
   "cell_type": "code",
   "execution_count": 4,
   "metadata": {
    "collapsed": false
   },
   "outputs": [
    {
     "name": "stdout",
     "output_type": "stream",
     "text": [
      "[[81, 63], [64, 8], [56, 72], [9, 14], [20, 24], [76, 10], [46, 20], [61, 56], [64, 99], [39, 41], [8, 52], [6, 39], [86, 95], [62, 67], [74, 2], [88, 72], [88, 55], [58, 76], [9, 67], [56, 58], [32, 37], [91, 56], [30, 1], [12, 1], [26, 55], [32, 56], [53, 24], [70, 46], [47, 49], [98, 82], [24, 34], [22, 33], [39, 20], [52, 84], [61, 58], [40, 2], [0, 53], [66, 65], [56, 44], [82, 85], [77, 2], [57, 75], [29, 25], [55, 80], [51, 43], [88, 83], [73, 69], [65, 61], [19, 10], [23, 96], [15, 77], [24, 42], [55, 41], [90, 95], [41, 47], [58, 43], [97, 63], [61, 17], [8, 4], [26, 19], [29, 59], [69, 92], [70, 63], [29, 85], [82, 76], [73, 73], [79, 56], [26, 28], [95, 16], [46, 3], [55, 48], [27, 3], [30, 55], [11, 45], [80, 79], [71, 30], [94, 61], [5, 27], [49, 4], [89, 42], [53, 2], [25, 36], [57, 51], [67, 17], [52, 38], [60, 72], [34, 36], [56, 82], [62, 74], [71, 58], [62, 15], [62, 72], [6, 0], [71, 84], [2, 56], [70, 88], [38, 39], [58, 66], [2, 46], [77, 39]]\n"
     ]
    }
   ],
   "source": [
    "numberOfPoints = 100\n",
    "if (numberOfPoints>xWidth*yWidth):\n",
    "    raise IndexError(\"Cannot generate this amount of points as it's larger than the size of the map!\")\n",
    "xyArray = []\n",
    "makeDir('build')\n",
    "pathFile = open('build/path.txt', 'w')\n",
    "pathFile.write('id,x,y\\n')\n",
    "while(len(xyArray)<numberOfPoints):\n",
    "    newPoint = [randint(0,xWidth-1),randint(0,yWidth-1)]\n",
    "    if newPoint not in xyArray:\n",
    "        xyArray.append(newPoint)\n",
    "        pathFile.write(`len(xyArray)`+','+`newPoint[0]`+','+`newPoint[1]`+'\\n')\n",
    "pathFile.close()\n",
    "print(xyArray)"
   ]
  },
  {
   "cell_type": "markdown",
   "metadata": {},
   "source": [
    "Implementation plan:\n",
    "1. Use contraction hierarchys to produce a digested list\n",
    "    - https://en.wikipedia.org/wiki/Contraction_hierarchies\n",
    "2. Use A* to produce a reduced map of weights for all node to node connections\n",
    "3. Produce an asymmetric graph using graph conversion\n",
    "    - https://en.wikipedia.org/wiki/Travelling_salesman_problem#Asymmetric_TSP\n",
    "4. Use Metric TSP on the digested graph and the reduced map to find the best travelling salesman solution to the all nodes problem.\n",
    "    - https://en.wikipedia.org/wiki/Travelling_salesman_problem#Metric_TSP\n",
    "5. Optimise Heuristic function for a range of random graphs to give the shortest route"
   ]
  }
 ],
 "metadata": {
  "kernelspec": {
   "display_name": "Python 2",
   "language": "python",
   "name": "python2"
  },
  "language_info": {
   "codemirror_mode": {
    "name": "ipython",
    "version": 2
   },
   "file_extension": ".py",
   "mimetype": "text/x-python",
   "name": "python",
   "nbconvert_exporter": "python",
   "pygments_lexer": "ipython2",
   "version": "2.7.11"
  }
 },
 "nbformat": 4,
 "nbformat_minor": 0
}
