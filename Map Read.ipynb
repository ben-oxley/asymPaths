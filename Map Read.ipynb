{
 "cells": [
  {
   "cell_type": "code",
   "execution_count": 98,
   "metadata": {
    "collapsed": false
   },
   "outputs": [],
   "source": [
    "pathToMap = 'build/map.txt'\n",
    "\n",
    "import csv\n",
    "with open(pathToMap, 'rb') as csvfile:\n",
    "    map = list(csv.reader(csvfile, delimiter=',', quotechar='|'))\n",
    "for col in range(len(map)):\n",
    "    for row in range(len(map[col])):\n",
    "        map[col-1][row-1] = int(map[col-1][row-1])"
   ]
  },
  {
   "cell_type": "code",
   "execution_count": 99,
   "metadata": {
    "collapsed": false
   },
   "outputs": [
    {
     "name": "stdout",
     "output_type": "stream",
     "text": [
      "Start: ['1', '1', '7']\n",
      "End: ['100', '9', '3']\n"
     ]
    }
   ],
   "source": [
    "pathToPath = 'build/path.txt'\n",
    "with open(pathToPath,'rb') as csvfile:\n",
    "    path = list(csv.reader(csvfile,delimiter=','))\n",
    "start = path[1]\n",
    "end = path[-1]\n",
    "print(\"Start: \"+`start`)\n",
    "print(\"End: \"+`end`)"
   ]
  },
  {
   "cell_type": "code",
   "execution_count": 100,
   "metadata": {
    "collapsed": true
   },
   "outputs": [],
   "source": [
    "class Point:\n",
    "    def __init__(self, x=0, y=0):\n",
    "        self.x = x\n",
    "        self.y = y\n",
    "    def __eq__(self, other):\n",
    "        return (isinstance(other, self.__class__)\n",
    "            and self.x == other.x and self.y == other.y)\n",
    "\n",
    "    def __ne__(self, other):\n",
    "        return not self.__eq__(other)"
   ]
  },
  {
   "cell_type": "markdown",
   "metadata": {},
   "source": [
    "Next we can define an implementation of A* in order to find the fastest route from start to end\n",
    "<pre>\n",
    "function A*(start, goal)\n",
    "    // The set of nodes already evaluated.\n",
    "    closedSet := {}\n",
    "    // The set of currently discovered nodes still to be evaluated.\n",
    "    // Initially, only the start node is known.\n",
    "    openSet := {start}\n",
    "    // For each node, which node it can most efficiently be reached from.\n",
    "    // If a node can be reached from many nodes, cameFrom will eventually contain the\n",
    "    // most efficient previous step.\n",
    "    cameFrom := the empty map\n",
    "\n",
    "    // For each node, the cost of getting from the start node to that node.\n",
    "    gScore := map with default value of Infinity\n",
    "    // The cost of going from start to start is zero.\n",
    "    gScore[start] := 0 \n",
    "    // For each node, the total cost of getting from the start node to the goal\n",
    "    // by passing by that node. That value is partly known, partly heuristic.\n",
    "    fScore := map with default value of Infinity\n",
    "    // For the first node, that value is completely heuristic.\n",
    "    fScore[start] := heuristic_cost_estimate(start, goal)\n",
    "\n",
    "    while openSet is not empty\n",
    "        current := the node in openSet having the lowest fScore[] value\n",
    "        if current = goal\n",
    "            return reconstruct_path(cameFrom, goal)\n",
    "\n",
    "        openSet.Remove(current)\n",
    "        closedSet.Add(current)\n",
    "        for each neighbor of current\n",
    "            if neighbor in closedSet\n",
    "                continue\t\t// Ignore the neighbor which is already evaluated.\n",
    "            // The distance from start to a neighbor\n",
    "            tentative_gScore := gScore[current] + dist_between(current, neighbor)\n",
    "            if neighbor not in openSet\t// Discover a new node\n",
    "                openSet.Add(neighbor)\n",
    "            else if tentative_gScore >= gScore[neighbor]\n",
    "                continue\t\t// This is not a better path.\n",
    "\n",
    "            // This path is the best until now. Record it!\n",
    "            cameFrom[neighbor] := current\n",
    "            gScore[neighbor] := tentative_gScore\n",
    "            fScore[neighbor] := gScore[neighbor] + heuristic_cost_estimate(neighbor, goal)\n",
    "\n",
    "    return failure\n",
    "\n",
    "function reconstruct_path(cameFrom, current)\n",
    "    total_path := [current]\n",
    "    while current in cameFrom.Keys:\n",
    "        current := cameFrom[current]\n",
    "        total_path.append(current)\n",
    "    return total_path\n",
    "    </pre>"
   ]
  },
  {
   "cell_type": "code",
   "execution_count": 103,
   "metadata": {
    "collapsed": false
   },
   "outputs": [
    {
     "name": "stdout",
     "output_type": "stream",
     "text": [
      "x: 0 y: 9\n",
      "x: 0 y: 8\n",
      "x: 1 y: 8\n",
      "x: 1 y: 7\n",
      "x: 1 y: 6\n",
      "x: 1 y: 5\n",
      "x: 1 y: 4\n",
      "x: 1 y: 3\n",
      "x: 1 y: 2\n",
      "x: 1 y: 1\n",
      "x: 1 y: 0\n",
      "x: 0 y: 0\n"
     ]
    },
    {
     "data": {
      "text/plain": [
       "[<__main__.Point instance at 0x10e6eeef0>,\n",
       " <__main__.Point instance at 0x10e661f38>,\n",
       " <__main__.Point instance at 0x10e741cb0>,\n",
       " <__main__.Point instance at 0x10e771dd0>,\n",
       " <__main__.Point instance at 0x10e6610e0>,\n",
       " <__main__.Point instance at 0x10e661440>,\n",
       " <__main__.Point instance at 0x10e6614d0>,\n",
       " <__main__.Point instance at 0x10e661998>,\n",
       " <__main__.Point instance at 0x10e661c68>,\n",
       " <__main__.Point instance at 0x10e661b00>,\n",
       " <__main__.Point instance at 0x10e6615f0>,\n",
       " <__main__.Point instance at 0x10e6eefc8>]"
      ]
     },
     "execution_count": 103,
     "metadata": {},
     "output_type": "execute_result"
    }
   ],
   "source": [
    "import sys\n",
    "from itertools import izip\n",
    "INFINITY = sys.maxint\n",
    "xWidth = len(map)\n",
    "yHeight = len(map[0])\n",
    "def Distance(start,end):\n",
    "    return abs(start.x-end.x)+abs(start.y-end.y)\n",
    "\n",
    "def ReplayPath(cameFrom,current,start):\n",
    "    total_path = [current]\n",
    "    pos = current\n",
    "    print(\"x: \"+ `pos.x`+\" y: \"+`pos.y`) \n",
    "    while not pos == start:\n",
    "        pos = cameFrom[pos.x][pos.y]\n",
    "        total_path.append(pos)\n",
    "        print(\"x: \"+ `pos.x`+\" y: \"+`pos.y`) \n",
    "    return total_path\n",
    "\n",
    "def AStar(map,start,end):\n",
    "\n",
    "    #The set of nodes already evaluated.\n",
    "    visitedNodes = []\n",
    "    #The set of currently discovered nodes still to be evaluated.\n",
    "    #Initially, only the start node is known.\n",
    "    discoveredNodes = [start]\n",
    "    #For each node, which node it can most efficiently be reached from.\n",
    "    #If a node can be reached from many nodes, cameFrom will eventually contain the\n",
    "    #most efficient previous step.\n",
    "    previousposition = [[0 for y in range(yHeight)] for x in range(xWidth)] \n",
    "    gscore = [[0 for y in range(yHeight)] for x in range(xWidth)] \n",
    "    fscore = [[0 for y in range(yHeight)] for x in range(xWidth)] \n",
    "    for col in range(xWidth):\n",
    "        for row in range(len(map[col])):\n",
    "            gscore[col-1][row-1] = INFINITY\n",
    "            fscore[col-1][row-1] = INFINITY\n",
    "    gscore[start.x][start.y] = 0\n",
    "    fscore[start.x][start.y] = Distance(start, end)\n",
    "    while(len(discoveredNodes)>0):\n",
    "        lowest = fscore[discoveredNodes[0].x][discoveredNodes[0].y]\n",
    "        lowestIndex = 0\n",
    "        for indx in range(1,len(discoveredNodes)-1):\n",
    "            score = fscore[discoveredNodes[indx].x][discoveredNodes[indx].y]\n",
    "            if (lowest > score):\n",
    "                lowest = score\n",
    "                lowestIndex = indx\n",
    "        currentNode = discoveredNodes[lowestIndex]\n",
    "        if (currentNode == end):\n",
    "            return(ReplayPath(previousposition,end,start))\n",
    "            #output path\n",
    "        discoveredNodes.remove(currentNode)\n",
    "        visitedNodes.append(currentNode)\n",
    "        points = [Point(max(currentNode.x-1,0),currentNode.y),\n",
    "                  Point(min(xWidth-1,currentNode.x+1),currentNode.y),\n",
    "                  Point(currentNode.x,min(currentNode.y+1,yHeight-1)),\n",
    "                  Point(currentNode.x,max(currentNode.y-1,0))]\n",
    "        for point in points:\n",
    "            if point not in visitedNodes:\n",
    "                # The distance from start to a neighbor\n",
    "                #print(\"x: \"+ `point.x`+\" y: \"+`point.y`) \n",
    "                newGScore = gscore[currentNode.x][currentNode.y] + map[point.x][point.y]\n",
    "                if point not in discoveredNodes:\n",
    "                    discoveredNodes.append(point)\n",
    "                if newGScore < gscore[point.x][point.y]:\n",
    "                    previousposition[point.x][point.y] = currentNode\n",
    "                    gscore[point.x][point.y] = newGScore\n",
    "                    fscore[point.x][point.y] = newGScore + Distance(point, end)\n",
    "    raise LookupError(\"Could not find solution\")\n",
    "AStar(map,Point(0,0),Point(0,9))"
   ]
  },
  {
   "cell_type": "code",
   "execution_count": null,
   "metadata": {
    "collapsed": true
   },
   "outputs": [],
   "source": []
  }
 ],
 "metadata": {
  "kernelspec": {
   "display_name": "Python 2",
   "language": "python",
   "name": "python2"
  },
  "language_info": {
   "codemirror_mode": {
    "name": "ipython",
    "version": 2
   },
   "file_extension": ".py",
   "mimetype": "text/x-python",
   "name": "python",
   "nbconvert_exporter": "python",
   "pygments_lexer": "ipython2",
   "version": "2.7.11"
  }
 },
 "nbformat": 4,
 "nbformat_minor": 0
}
